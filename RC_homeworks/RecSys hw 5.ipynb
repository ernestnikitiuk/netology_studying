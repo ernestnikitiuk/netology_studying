{
 "cells": [
  {
   "cell_type": "markdown",
   "metadata": {},
   "source": [
    "\n",
    "Домашнее задание \n",
    "«Гибридные рекомендатльные системы»\n"
   ]
  },
  {
   "cell_type": "code",
   "execution_count": 112,
   "metadata": {},
   "outputs": [],
   "source": [
    "import pandas as pd\n",
    "import numpy as np\n",
    "\n",
    "from surprise import Dataset, Reader, KNNWithMeans, SVD\n",
    "from sklearn.linear_model import LinearRegression\n",
    "from sklearn.neighbors import NearestNeighbors\n",
    "from sklearn.metrics import mean_squared_error\n",
    "from sklearn.feature_extraction.text import CountVectorizer, TfidfTransformer\n",
    "from sklearn.model_selection import cross_val_score"
   ]
  },
  {
   "cell_type": "code",
   "execution_count": 113,
   "metadata": {},
   "outputs": [],
   "source": [
    "links = pd.read_csv('../lecture-1/links.csv')\n",
    "movies = pd.read_csv('../lecture-1/movies.csv')\n",
    "ratings = pd.read_csv('../lecture-1/ratings.csv')\n",
    "tags = pd.read_csv('../lecture-1/tags.csv')"
   ]
  },
  {
   "cell_type": "code",
   "execution_count": 114,
   "metadata": {},
   "outputs": [],
   "source": [
    "movies['genres_red'] = movies.apply(lambda x: ' '.join(x.genres.split('|')), axis=1)\n",
    "movies['genres_red'] = movies.apply(lambda x: x.genres_red.replace('(no genres listed)', 'NoGenres'), axis=1)"
   ]
  },
  {
   "cell_type": "markdown",
   "metadata": {},
   "source": [
    "1.Используем knn для жанров"
   ]
  },
  {
   "cell_type": "code",
   "execution_count": 115,
   "metadata": {},
   "outputs": [],
   "source": [
    "genres_corpus = movies.genres_red.tolist()"
   ]
  },
  {
   "cell_type": "code",
   "execution_count": 116,
   "metadata": {},
   "outputs": [],
   "source": [
    "cv = CountVectorizer()\n",
    "cv_genres_corpus = cv.fit_transform(genres_corpus)"
   ]
  },
  {
   "cell_type": "code",
   "execution_count": 117,
   "metadata": {},
   "outputs": [],
   "source": [
    "tfidf = TfidfTransformer()\n",
    "tfidf_cv_genres_corpus = tfidf.fit_transform(cv_genres_corpus)"
   ]
  },
  {
   "cell_type": "code",
   "execution_count": 118,
   "metadata": {},
   "outputs": [],
   "source": [
    "genre_list = cv.get_feature_names()"
   ]
  },
  {
   "cell_type": "code",
   "execution_count": 119,
   "metadata": {},
   "outputs": [],
   "source": [
    "df_tfidf = pd.DataFrame(tfidf_cv_genres_corpus.toarray(), index=movies.movieId, columns=genre_list)"
   ]
  },
  {
   "cell_type": "code",
   "execution_count": 120,
   "metadata": {},
   "outputs": [],
   "source": [
    "movies = movies.merge(df_tfidf, on='movieId')"
   ]
  },
  {
   "cell_type": "code",
   "execution_count": 121,
   "metadata": {},
   "outputs": [],
   "source": [
    "df = ratings.merge(movies.set_index('movieId'), on='movieId')"
   ]
  },
  {
   "cell_type": "code",
   "execution_count": 122,
   "metadata": {},
   "outputs": [],
   "source": [
    "knn_on_genres = NearestNeighbors(n_neighbors=20, n_jobs=-1)"
   ]
  },
  {
   "cell_type": "code",
   "execution_count": 123,
   "metadata": {},
   "outputs": [
    {
     "data": {
      "text/plain": [
       "NearestNeighbors(algorithm='auto', leaf_size=30, metric='minkowski',\n",
       "                 metric_params=None, n_jobs=-1, n_neighbors=20, p=2,\n",
       "                 radius=1.0)"
      ]
     },
     "execution_count": 123,
     "metadata": {},
     "output_type": "execute_result"
    }
   ],
   "source": [
    "knn_on_genres.fit(movies.iloc[:,-len(genre_list):])"
   ]
  },
  {
   "cell_type": "markdown",
   "metadata": {},
   "source": [
    "2. Используем KNNWithMeans и SVD для предсказания рейтинга"
   ]
  },
  {
   "cell_type": "code",
   "execution_count": 124,
   "metadata": {},
   "outputs": [],
   "source": [
    "surp_df = pd.DataFrame({\n",
    "    'uid': df.userId,\n",
    "    'iid': df.movieId,\n",
    "    'rating': df.rating\n",
    "})"
   ]
  },
  {
   "cell_type": "code",
   "execution_count": 125,
   "metadata": {},
   "outputs": [],
   "source": [
    "surp_reader = Reader(rating_scale=(df.rating.min(), df.rating.max()))\n",
    "surp_dataset = Dataset(surp_reader)\n",
    "surp_df = surp_dataset.load_from_df(surp_df, surp_reader)\n",
    "surp_df = surp_df.build_full_trainset()"
   ]
  },
  {
   "cell_type": "code",
   "execution_count": 126,
   "metadata": {
    "scrolled": true
   },
   "outputs": [
    {
     "data": {
      "text/plain": [
       "<surprise.prediction_algorithms.matrix_factorization.SVD at 0x1a244e57d0>"
      ]
     },
     "execution_count": 126,
     "metadata": {},
     "output_type": "execute_result"
    }
   ],
   "source": [
    "surp_SVD = SVD(n_epochs=10, lr_all=0.005, reg_all=0.4)\n",
    "surp_SVD.fit(surp_df)"
   ]
  },
  {
   "cell_type": "code",
   "execution_count": 127,
   "metadata": {},
   "outputs": [
    {
     "name": "stdout",
     "output_type": "stream",
     "text": [
      "Computing the msd similarity matrix...\n",
      "Done computing similarity matrix.\n"
     ]
    },
    {
     "data": {
      "text/plain": [
       "<surprise.prediction_algorithms.knns.KNNWithMeans at 0x1a24d75410>"
      ]
     },
     "execution_count": 127,
     "metadata": {},
     "output_type": "execute_result"
    }
   ],
   "source": [
    "surp_KNN = KNNWithMeans()\n",
    "surp_KNN.fit(surp_df)"
   ]
  },
  {
   "cell_type": "markdown",
   "metadata": {},
   "source": [
    "3.Наша функция рекомендации"
   ]
  },
  {
   "cell_type": "code",
   "execution_count": 128,
   "metadata": {},
   "outputs": [],
   "source": [
    "# Пишем функцию рекомендации\n",
    "def recomend_for_user(userId=1):\n",
    "    user_ratings = df[df.userId == userId]\n",
    "\n",
    "    def knn_rec_rating(userId, movieId):\n",
    "        rating_knn = 0\n",
    "        try:\n",
    "            rating_knn = surp_KNN.estimate(userId, movieId)[0]\n",
    "        except:\n",
    "            rating_knn = user_ratings.rating.mean()\n",
    "        return rating_knn\n",
    "    \n",
    "    user_ratings['rating_svd'] = user_ratings.apply(lambda x: surp_SVD.estimate(userId, x.movieId), axis=1)\n",
    "    user_ratings['rating_knn'] = user_ratings.apply(lambda x: knn_rec_rating(userId, x.movieId), axis=1)\n",
    "    \n",
    "    meta_algo = LinearRegression()\n",
    "    X = user_ratings[['rating_svd', 'rating_knn']]\n",
    "    y = user_ratings[['rating']]\n",
    "    print('Meta algorithm RMSE: ', cross_val_score(meta_algo, X, y, scoring='neg_mean_squared_error', cv=5).mean()*-1)\n",
    "    meta_algo.fit(X, y)\n",
    "    \n",
    "    # фильмы которые пользоатель не видел\n",
    "    user_not_viewed_films = movies[~movies.movieId.isin(user_ratings.movieId.tolist())]\n",
    "    \n",
    "    user_not_viewed_films['rating_svd'] = user_not_viewed_films.apply(lambda x: surp_SVD.estimate(userId, x.movieId), axis=1)\n",
    "    user_not_viewed_films['rating_knn'] = user_not_viewed_films.apply(lambda x: knn_rec_rating(userId, x.movieId), axis=1)\n",
    "    user_not_viewed_films['rating'] = user_not_viewed_films.apply(lambda x: meta_algo.predict(np.array([[x[['rating_svd']][0]], \\\n",
    "                                                                                                        [x[['rating_knn']][0]]]).reshape(1,-1))[0][0], axis=1)\n",
    "    \n",
    "    # самый похожий фильм на последний посмотренный\n",
    "    knn_for_last_film = knn_on_genres.kneighbors(user_ratings.sort_values('timestamp', ascending=False).iloc[:1,-len(genre_list):], n_neighbors=20)[1][0]\n",
    "    last_relevant_movies = []\n",
    "    for each in knn_for_last_film:\n",
    "        last_relevant_movies.append(movies.ix[each].movieId)\n",
    "\n",
    "    rec_1 = user_not_viewed_films[user_not_viewed_films.movieId.isin(last_relevant_movies)].sort_values('rating', ascending=False).head(1)[['title', 'movieId', 'genres', 'rating']]\n",
    "\n",
    "    # самый похожий фильм на последний посмотренный + макс рейт\n",
    "    knn_for_last_film = knn_on_genres.kneighbors(user_ratings.sort_values('timestamp', ascending=False).sort_values('rating', ascending=False).iloc[:1,-len(genre_list):], n_neighbors=20)[1][0]\n",
    "    last_relevant_movies = []\n",
    "    for each in knn_for_last_film:\n",
    "        last_relevant_movies.append(movies.ix[each].movieId)\n",
    "    last_relevant_movies.remove(rec_1.movieId.tolist()[0])\n",
    "    rec_2 = user_not_viewed_films[user_not_viewed_films.movieId.isin(last_relevant_movies)].sort_values('rating', ascending=False).head(1)[['title', 'movieId', 'genres', 'rating']]\n",
    "    \n",
    "    # остальные 8 лучших\n",
    "    rec_3 = user_not_viewed_films.drop(rec_1.index[0], axis=0).drop(rec_2.index[0], axis=0).sort_values('rating', ascending=False).head(8)[['title', 'movieId', 'genres', 'rating']]\n",
    "    \n",
    "    return pd.concat([rec_1, rec_2, rec_3])"
   ]
  },
  {
   "cell_type": "code",
   "execution_count": 129,
   "metadata": {},
   "outputs": [
    {
     "name": "stdout",
     "output_type": "stream",
     "text": [
      "Meta algorithm RMSE:  0.15961542317359362\n"
     ]
    },
    {
     "name": "stderr",
     "output_type": "stream",
     "text": [
      "/Users/erik/opt/anaconda3/lib/python3.7/site-packages/ipykernel_launcher.py:13: SettingWithCopyWarning: \n",
      "A value is trying to be set on a copy of a slice from a DataFrame.\n",
      "Try using .loc[row_indexer,col_indexer] = value instead\n",
      "\n",
      "See the caveats in the documentation: http://pandas.pydata.org/pandas-docs/stable/user_guide/indexing.html#returning-a-view-versus-a-copy\n",
      "  del sys.path[0]\n",
      "/Users/erik/opt/anaconda3/lib/python3.7/site-packages/ipykernel_launcher.py:14: SettingWithCopyWarning: \n",
      "A value is trying to be set on a copy of a slice from a DataFrame.\n",
      "Try using .loc[row_indexer,col_indexer] = value instead\n",
      "\n",
      "See the caveats in the documentation: http://pandas.pydata.org/pandas-docs/stable/user_guide/indexing.html#returning-a-view-versus-a-copy\n",
      "  \n",
      "/Users/erik/opt/anaconda3/lib/python3.7/site-packages/ipykernel_launcher.py:25: SettingWithCopyWarning: \n",
      "A value is trying to be set on a copy of a slice from a DataFrame.\n",
      "Try using .loc[row_indexer,col_indexer] = value instead\n",
      "\n",
      "See the caveats in the documentation: http://pandas.pydata.org/pandas-docs/stable/user_guide/indexing.html#returning-a-view-versus-a-copy\n",
      "/Users/erik/opt/anaconda3/lib/python3.7/site-packages/ipykernel_launcher.py:26: SettingWithCopyWarning: \n",
      "A value is trying to be set on a copy of a slice from a DataFrame.\n",
      "Try using .loc[row_indexer,col_indexer] = value instead\n",
      "\n",
      "See the caveats in the documentation: http://pandas.pydata.org/pandas-docs/stable/user_guide/indexing.html#returning-a-view-versus-a-copy\n",
      "/Users/erik/opt/anaconda3/lib/python3.7/site-packages/ipykernel_launcher.py:27: SettingWithCopyWarning: \n",
      "A value is trying to be set on a copy of a slice from a DataFrame.\n",
      "Try using .loc[row_indexer,col_indexer] = value instead\n",
      "\n",
      "See the caveats in the documentation: http://pandas.pydata.org/pandas-docs/stable/user_guide/indexing.html#returning-a-view-versus-a-copy\n",
      "/Users/erik/opt/anaconda3/lib/python3.7/site-packages/ipykernel_launcher.py:33: FutureWarning: \n",
      ".ix is deprecated. Please use\n",
      ".loc for label based indexing or\n",
      ".iloc for positional indexing\n",
      "\n",
      "See the documentation here:\n",
      "http://pandas.pydata.org/pandas-docs/stable/user_guide/indexing.html#ix-indexer-is-deprecated\n",
      "/Users/erik/opt/anaconda3/lib/python3.7/site-packages/ipykernel_launcher.py:41: FutureWarning: \n",
      ".ix is deprecated. Please use\n",
      ".loc for label based indexing or\n",
      ".iloc for positional indexing\n",
      "\n",
      "See the documentation here:\n",
      "http://pandas.pydata.org/pandas-docs/stable/user_guide/indexing.html#ix-indexer-is-deprecated\n"
     ]
    },
    {
     "data": {
      "text/html": [
       "<div>\n",
       "<style scoped>\n",
       "    .dataframe tbody tr th:only-of-type {\n",
       "        vertical-align: middle;\n",
       "    }\n",
       "\n",
       "    .dataframe tbody tr th {\n",
       "        vertical-align: top;\n",
       "    }\n",
       "\n",
       "    .dataframe thead th {\n",
       "        text-align: right;\n",
       "    }\n",
       "</style>\n",
       "<table border=\"1\" class=\"dataframe\">\n",
       "  <thead>\n",
       "    <tr style=\"text-align: right;\">\n",
       "      <th></th>\n",
       "      <th>title</th>\n",
       "      <th>movieId</th>\n",
       "      <th>genres</th>\n",
       "      <th>rating</th>\n",
       "    </tr>\n",
       "  </thead>\n",
       "  <tbody>\n",
       "    <tr>\n",
       "      <th>1084</th>\n",
       "      <td>Last of the Mohicans, The (1992)</td>\n",
       "      <td>1408</td>\n",
       "      <td>Action|Romance|War|Western</td>\n",
       "      <td>5.125643</td>\n",
       "    </tr>\n",
       "    <tr>\n",
       "      <th>4029</th>\n",
       "      <td>Tom Horn (1980)</td>\n",
       "      <td>5699</td>\n",
       "      <td>Western</td>\n",
       "      <td>5.077013</td>\n",
       "    </tr>\n",
       "    <tr>\n",
       "      <th>1139</th>\n",
       "      <td>B*A*P*S (1997)</td>\n",
       "      <td>1490</td>\n",
       "      <td>Comedy</td>\n",
       "      <td>5.711099</td>\n",
       "    </tr>\n",
       "    <tr>\n",
       "      <th>2294</th>\n",
       "      <td>Meatballs Part II (1984)</td>\n",
       "      <td>3041</td>\n",
       "      <td>Comedy</td>\n",
       "      <td>5.646464</td>\n",
       "    </tr>\n",
       "    <tr>\n",
       "      <th>592</th>\n",
       "      <td>Rock, The (1996)</td>\n",
       "      <td>733</td>\n",
       "      <td>Action|Adventure|Thriller</td>\n",
       "      <td>5.601988</td>\n",
       "    </tr>\n",
       "    <tr>\n",
       "      <th>94</th>\n",
       "      <td>Nobody Loves Me (Keiner liebt mich) (1994)</td>\n",
       "      <td>106</td>\n",
       "      <td>Comedy|Drama</td>\n",
       "      <td>5.565838</td>\n",
       "    </tr>\n",
       "    <tr>\n",
       "      <th>1235</th>\n",
       "      <td>I Know What You Did Last Summer (1997)</td>\n",
       "      <td>1644</td>\n",
       "      <td>Horror|Mystery|Thriller</td>\n",
       "      <td>5.553667</td>\n",
       "    </tr>\n",
       "    <tr>\n",
       "      <th>619</th>\n",
       "      <td>Cable Guy, The (1996)</td>\n",
       "      <td>784</td>\n",
       "      <td>Comedy|Thriller</td>\n",
       "      <td>5.545207</td>\n",
       "    </tr>\n",
       "    <tr>\n",
       "      <th>121</th>\n",
       "      <td>Awfully Big Adventure, An (1995)</td>\n",
       "      <td>148</td>\n",
       "      <td>Drama</td>\n",
       "      <td>5.522735</td>\n",
       "    </tr>\n",
       "    <tr>\n",
       "      <th>537</th>\n",
       "      <td>Theodore Rex (1995)</td>\n",
       "      <td>634</td>\n",
       "      <td>Comedy</td>\n",
       "      <td>5.505938</td>\n",
       "    </tr>\n",
       "  </tbody>\n",
       "</table>\n",
       "</div>"
      ],
      "text/plain": [
       "                                           title  movieId  \\\n",
       "1084            Last of the Mohicans, The (1992)     1408   \n",
       "4029                             Tom Horn (1980)     5699   \n",
       "1139                              B*A*P*S (1997)     1490   \n",
       "2294                    Meatballs Part II (1984)     3041   \n",
       "592                             Rock, The (1996)      733   \n",
       "94    Nobody Loves Me (Keiner liebt mich) (1994)      106   \n",
       "1235      I Know What You Did Last Summer (1997)     1644   \n",
       "619                        Cable Guy, The (1996)      784   \n",
       "121             Awfully Big Adventure, An (1995)      148   \n",
       "537                          Theodore Rex (1995)      634   \n",
       "\n",
       "                          genres    rating  \n",
       "1084  Action|Romance|War|Western  5.125643  \n",
       "4029                     Western  5.077013  \n",
       "1139                      Comedy  5.711099  \n",
       "2294                      Comedy  5.646464  \n",
       "592    Action|Adventure|Thriller  5.601988  \n",
       "94                  Comedy|Drama  5.565838  \n",
       "1235     Horror|Mystery|Thriller  5.553667  \n",
       "619              Comedy|Thriller  5.545207  \n",
       "121                        Drama  5.522735  \n",
       "537                       Comedy  5.505938  "
      ]
     },
     "execution_count": 129,
     "metadata": {},
     "output_type": "execute_result"
    }
   ],
   "source": [
    "recomend_for_user(userId=25)"
   ]
  },
  {
   "cell_type": "code",
   "execution_count": null,
   "metadata": {},
   "outputs": [],
   "source": []
  },
  {
   "cell_type": "code",
   "execution_count": null,
   "metadata": {},
   "outputs": [],
   "source": []
  },
  {
   "cell_type": "code",
   "execution_count": null,
   "metadata": {},
   "outputs": [],
   "source": []
  }
 ],
 "metadata": {
  "kernelspec": {
   "display_name": "Python 3",
   "language": "python",
   "name": "python3"
  },
  "language_info": {
   "codemirror_mode": {
    "name": "ipython",
    "version": 3
   },
   "file_extension": ".py",
   "mimetype": "text/x-python",
   "name": "python",
   "nbconvert_exporter": "python",
   "pygments_lexer": "ipython3",
   "version": "3.7.4"
  }
 },
 "nbformat": 4,
 "nbformat_minor": 2
}
