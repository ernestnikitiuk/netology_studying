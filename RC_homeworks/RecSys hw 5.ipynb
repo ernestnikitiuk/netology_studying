{
 "cells": [
  {
   "cell_type": "code",
   "execution_count": 38,
   "metadata": {},
   "outputs": [],
   "source": [
    "from surprise import SVD, SVDpp\n",
    "from surprise import Dataset\n",
    "from surprise import accuracy\n",
    "from surprise import Reader\n",
    "from surprise.model_selection import train_test_split\n",
    "\n",
    "import matplotlib.pyplot as plt\n",
    "\n",
    "from tqdm import tqdm_notebook\n",
    "\n",
    "from sklearn.feature_extraction.text import TfidfTransformer, CountVectorizer\n",
    "from sklearn.neighbors import NearestNeighbors\n",
    "\n",
    "import pandas as pd\n",
    "import numpy as np"
   ]
  },
  {
   "cell_type": "code",
   "execution_count": 39,
   "metadata": {},
   "outputs": [],
   "source": [
    "links = pd.read_csv('../lecture-1/links.csv')\n",
    "movies = pd.read_csv('../lecture-1/movies.csv')\n",
    "ratings = pd.read_csv('../lecture-1/ratings.csv')\n",
    "tags = pd.read_csv('../lecture-1/tags.csv')"
   ]
  },
  {
   "cell_type": "code",
   "execution_count": 40,
   "metadata": {},
   "outputs": [],
   "source": [
    "movies_with_ratings = movies.join(ratings.set_index('movieId'), on='movieId').reset_index(drop=True)\n",
    "movies_with_ratings.dropna(inplace=True)"
   ]
  },
  {
   "cell_type": "code",
   "execution_count": 41,
   "metadata": {},
   "outputs": [
    {
     "data": {
      "text/html": [
       "<div>\n",
       "<style scoped>\n",
       "    .dataframe tbody tr th:only-of-type {\n",
       "        vertical-align: middle;\n",
       "    }\n",
       "\n",
       "    .dataframe tbody tr th {\n",
       "        vertical-align: top;\n",
       "    }\n",
       "\n",
       "    .dataframe thead th {\n",
       "        text-align: right;\n",
       "    }\n",
       "</style>\n",
       "<table border=\"1\" class=\"dataframe\">\n",
       "  <thead>\n",
       "    <tr style=\"text-align: right;\">\n",
       "      <th></th>\n",
       "      <th>movieId</th>\n",
       "      <th>title</th>\n",
       "      <th>genres</th>\n",
       "      <th>userId</th>\n",
       "      <th>rating</th>\n",
       "      <th>timestamp</th>\n",
       "    </tr>\n",
       "  </thead>\n",
       "  <tbody>\n",
       "    <tr>\n",
       "      <th>0</th>\n",
       "      <td>1</td>\n",
       "      <td>Toy Story (1995)</td>\n",
       "      <td>Adventure|Animation|Children|Comedy|Fantasy</td>\n",
       "      <td>1.0</td>\n",
       "      <td>4.0</td>\n",
       "      <td>9.649827e+08</td>\n",
       "    </tr>\n",
       "    <tr>\n",
       "      <th>1</th>\n",
       "      <td>1</td>\n",
       "      <td>Toy Story (1995)</td>\n",
       "      <td>Adventure|Animation|Children|Comedy|Fantasy</td>\n",
       "      <td>5.0</td>\n",
       "      <td>4.0</td>\n",
       "      <td>8.474350e+08</td>\n",
       "    </tr>\n",
       "    <tr>\n",
       "      <th>2</th>\n",
       "      <td>1</td>\n",
       "      <td>Toy Story (1995)</td>\n",
       "      <td>Adventure|Animation|Children|Comedy|Fantasy</td>\n",
       "      <td>7.0</td>\n",
       "      <td>4.5</td>\n",
       "      <td>1.106636e+09</td>\n",
       "    </tr>\n",
       "    <tr>\n",
       "      <th>3</th>\n",
       "      <td>1</td>\n",
       "      <td>Toy Story (1995)</td>\n",
       "      <td>Adventure|Animation|Children|Comedy|Fantasy</td>\n",
       "      <td>15.0</td>\n",
       "      <td>2.5</td>\n",
       "      <td>1.510578e+09</td>\n",
       "    </tr>\n",
       "    <tr>\n",
       "      <th>4</th>\n",
       "      <td>1</td>\n",
       "      <td>Toy Story (1995)</td>\n",
       "      <td>Adventure|Animation|Children|Comedy|Fantasy</td>\n",
       "      <td>17.0</td>\n",
       "      <td>4.5</td>\n",
       "      <td>1.305696e+09</td>\n",
       "    </tr>\n",
       "    <tr>\n",
       "      <th>...</th>\n",
       "      <td>...</td>\n",
       "      <td>...</td>\n",
       "      <td>...</td>\n",
       "      <td>...</td>\n",
       "      <td>...</td>\n",
       "      <td>...</td>\n",
       "    </tr>\n",
       "    <tr>\n",
       "      <th>100848</th>\n",
       "      <td>193579</td>\n",
       "      <td>Jon Stewart Has Left the Building (2015)</td>\n",
       "      <td>Documentary</td>\n",
       "      <td>184.0</td>\n",
       "      <td>3.5</td>\n",
       "      <td>1.537107e+09</td>\n",
       "    </tr>\n",
       "    <tr>\n",
       "      <th>100849</th>\n",
       "      <td>193581</td>\n",
       "      <td>Black Butler: Book of the Atlantic (2017)</td>\n",
       "      <td>Action|Animation|Comedy|Fantasy</td>\n",
       "      <td>184.0</td>\n",
       "      <td>4.0</td>\n",
       "      <td>1.537109e+09</td>\n",
       "    </tr>\n",
       "    <tr>\n",
       "      <th>100850</th>\n",
       "      <td>193583</td>\n",
       "      <td>No Game No Life: Zero (2017)</td>\n",
       "      <td>Animation|Comedy|Fantasy</td>\n",
       "      <td>184.0</td>\n",
       "      <td>3.5</td>\n",
       "      <td>1.537110e+09</td>\n",
       "    </tr>\n",
       "    <tr>\n",
       "      <th>100851</th>\n",
       "      <td>193585</td>\n",
       "      <td>Flint (2017)</td>\n",
       "      <td>Drama</td>\n",
       "      <td>184.0</td>\n",
       "      <td>3.5</td>\n",
       "      <td>1.537110e+09</td>\n",
       "    </tr>\n",
       "    <tr>\n",
       "      <th>100852</th>\n",
       "      <td>193587</td>\n",
       "      <td>Bungo Stray Dogs: Dead Apple (2018)</td>\n",
       "      <td>Action|Animation</td>\n",
       "      <td>184.0</td>\n",
       "      <td>3.5</td>\n",
       "      <td>1.537110e+09</td>\n",
       "    </tr>\n",
       "  </tbody>\n",
       "</table>\n",
       "<p>100835 rows × 6 columns</p>\n",
       "</div>"
      ],
      "text/plain": [
       "        movieId                                      title  \\\n",
       "0             1                           Toy Story (1995)   \n",
       "1             1                           Toy Story (1995)   \n",
       "2             1                           Toy Story (1995)   \n",
       "3             1                           Toy Story (1995)   \n",
       "4             1                           Toy Story (1995)   \n",
       "...         ...                                        ...   \n",
       "100848   193579   Jon Stewart Has Left the Building (2015)   \n",
       "100849   193581  Black Butler: Book of the Atlantic (2017)   \n",
       "100850   193583               No Game No Life: Zero (2017)   \n",
       "100851   193585                               Flint (2017)   \n",
       "100852   193587        Bungo Stray Dogs: Dead Apple (2018)   \n",
       "\n",
       "                                             genres  userId  rating  \\\n",
       "0       Adventure|Animation|Children|Comedy|Fantasy     1.0     4.0   \n",
       "1       Adventure|Animation|Children|Comedy|Fantasy     5.0     4.0   \n",
       "2       Adventure|Animation|Children|Comedy|Fantasy     7.0     4.5   \n",
       "3       Adventure|Animation|Children|Comedy|Fantasy    15.0     2.5   \n",
       "4       Adventure|Animation|Children|Comedy|Fantasy    17.0     4.5   \n",
       "...                                             ...     ...     ...   \n",
       "100848                                  Documentary   184.0     3.5   \n",
       "100849              Action|Animation|Comedy|Fantasy   184.0     4.0   \n",
       "100850                     Animation|Comedy|Fantasy   184.0     3.5   \n",
       "100851                                        Drama   184.0     3.5   \n",
       "100852                             Action|Animation   184.0     3.5   \n",
       "\n",
       "           timestamp  \n",
       "0       9.649827e+08  \n",
       "1       8.474350e+08  \n",
       "2       1.106636e+09  \n",
       "3       1.510578e+09  \n",
       "4       1.305696e+09  \n",
       "...              ...  \n",
       "100848  1.537107e+09  \n",
       "100849  1.537109e+09  \n",
       "100850  1.537110e+09  \n",
       "100851  1.537110e+09  \n",
       "100852  1.537110e+09  \n",
       "\n",
       "[100835 rows x 6 columns]"
      ]
     },
     "execution_count": 41,
     "metadata": {},
     "output_type": "execute_result"
    }
   ],
   "source": [
    "movies_with_ratings.head(-1)"
   ]
  },
  {
   "cell_type": "code",
   "execution_count": 42,
   "metadata": {},
   "outputs": [],
   "source": [
    "dataset = pd.DataFrame({\n",
    "    'uid': movies_with_ratings.userId,\n",
    "    'iid': movies_with_ratings.title,\n",
    "    'rating': movies_with_ratings.rating\n",
    "})"
   ]
  },
  {
   "cell_type": "code",
   "execution_count": 43,
   "metadata": {},
   "outputs": [],
   "source": [
    "reader = Reader(rating_scale=(0.5, 5.0))\n",
    "data = Dataset.load_from_df(dataset, reader)"
   ]
  },
  {
   "cell_type": "code",
   "execution_count": 44,
   "metadata": {},
   "outputs": [],
   "source": [
    "trainset, testset = train_test_split(data, test_size=0.2)"
   ]
  },
  {
   "cell_type": "code",
   "execution_count": 45,
   "metadata": {},
   "outputs": [
    {
     "data": {
      "text/plain": [
       "<surprise.prediction_algorithms.matrix_factorization.SVD at 0x1a225204d0>"
      ]
     },
     "execution_count": 45,
     "metadata": {},
     "output_type": "execute_result"
    }
   ],
   "source": [
    "algo = SVD(n_factors=15, n_epochs=10)\n",
    "algo.fit(trainset)"
   ]
  },
  {
   "cell_type": "code",
   "execution_count": 46,
   "metadata": {},
   "outputs": [],
   "source": [
    "test_pred = algo.test(testset)"
   ]
  },
  {
   "cell_type": "code",
   "execution_count": 47,
   "metadata": {},
   "outputs": [
    {
     "name": "stdout",
     "output_type": "stream",
     "text": [
      "RMSE: 0.8715\n"
     ]
    },
    {
     "data": {
      "text/plain": [
       "0.871518667022858"
      ]
     },
     "execution_count": 47,
     "metadata": {},
     "output_type": "execute_result"
    }
   ],
   "source": [
    "accuracy.rmse(test_pred, verbose=True)"
   ]
  },
  {
   "cell_type": "code",
   "execution_count": 48,
   "metadata": {},
   "outputs": [
    {
     "data": {
      "text/plain": [
       "3.611941505486304"
      ]
     },
     "execution_count": 48,
     "metadata": {},
     "output_type": "execute_result"
    }
   ],
   "source": [
    "algo.predict(uid=184, iid='No Game No Life: Zero (2017)').est"
   ]
  },
  {
   "cell_type": "code",
   "execution_count": 49,
   "metadata": {},
   "outputs": [],
   "source": [
    "current_user_id = 184\n",
    "user_movies = movies_with_ratings[movies_with_ratings.userId == current_user_id].title.unique()\n",
    "\n",
    "scores = []   \n",
    "titles = []\n",
    "\n",
    "for movie in movies_with_ratings.title.unique():\n",
    "    if movie in user_movies:\n",
    "        continue\n",
    "        \n",
    "    scores.append(algo.predict(uid=current_user_id, iid=movie).est)\n",
    "    titles.append(movie)"
   ]
  },
  {
   "cell_type": "code",
   "execution_count": 50,
   "metadata": {},
   "outputs": [
    {
     "data": {
      "text/plain": [
       "[4.351647753657753,\n",
       " 4.361372871430738,\n",
       " 4.363989219208977,\n",
       " 4.3751655000579905,\n",
       " 4.38611478764941,\n",
       " 4.389986942715084,\n",
       " 4.391196968699926,\n",
       " 4.419292355492143,\n",
       " 4.447798194046829,\n",
       " 4.485551519293634]"
      ]
     },
     "execution_count": 50,
     "metadata": {},
     "output_type": "execute_result"
    }
   ],
   "source": [
    "sorted(scores)[-10:]"
   ]
  },
  {
   "cell_type": "code",
   "execution_count": 51,
   "metadata": {},
   "outputs": [],
   "source": [
    "def change_string(s):\n",
    "    return ' '.join(s.replace(' ', '').replace('-', '').split('|'))"
   ]
  },
  {
   "cell_type": "code",
   "execution_count": 52,
   "metadata": {},
   "outputs": [],
   "source": [
    "movie_genres = [change_string(g) for g in movies.genres.values]"
   ]
  },
  {
   "cell_type": "code",
   "execution_count": 55,
   "metadata": {},
   "outputs": [
    {
     "data": {
      "text/plain": [
       "NearestNeighbors(algorithm='auto', leaf_size=30, metric='euclidean',\n",
       "                 metric_params=None, n_jobs=-1, n_neighbors=20, p=2,\n",
       "                 radius=1.0)"
      ]
     },
     "execution_count": 55,
     "metadata": {},
     "output_type": "execute_result"
    }
   ],
   "source": [
    "count_vect = CountVectorizer()\n",
    "X_train_counts = count_vect.fit_transform(movie_genres)\n",
    "\n",
    "tfidf_transformer = TfidfTransformer()\n",
    "X_train_tfidf = tfidf_transformer.fit_transform(X_train_counts)\n",
    "\n",
    "neigh = NearestNeighbors(n_neighbors=20, n_jobs=-1, metric='euclidean') \n",
    "neigh.fit(X_train_tfidf)"
   ]
  },
  {
   "cell_type": "code",
   "execution_count": 56,
   "metadata": {},
   "outputs": [],
   "source": [
    "test = change_string(\"Adventure|Comedy|Fantasy|Crime\")\n",
    "\n",
    "predict = count_vect.transform([test])\n",
    "X_tfidf2 = tfidf_transformer.transform(predict)\n",
    "\n",
    "res = neigh.kneighbors(X_tfidf2, return_distance=True)"
   ]
  },
  {
   "cell_type": "code",
   "execution_count": 57,
   "metadata": {},
   "outputs": [
    {
     "data": {
      "text/plain": [
       "(array([[0.42079615, 0.53300564, 0.54288608, 0.54288608, 0.54288608,\n",
       "         0.54288608, 0.54288608, 0.54288608, 0.54288608, 0.54288608,\n",
       "         0.54288608, 0.54288608, 0.54288608, 0.54288608, 0.54288608,\n",
       "         0.54288608, 0.54288608, 0.6188388 , 0.62682864, 0.62682864]]),\n",
       " array([[6774, 9096, 3576,  863, 2302, 2608, 7865, 3582, 8361, 3302, 5737,\n",
       "         6723, 5636, 3376, 7496, 5627, 9717, 2206, 6133, 5832]]))"
      ]
     },
     "execution_count": 57,
     "metadata": {},
     "output_type": "execute_result"
    }
   ],
   "source": [
    "res"
   ]
  },
  {
   "cell_type": "code",
   "execution_count": 58,
   "metadata": {
    "scrolled": true
   },
   "outputs": [
    {
     "data": {
      "text/html": [
       "<div>\n",
       "<style scoped>\n",
       "    .dataframe tbody tr th:only-of-type {\n",
       "        vertical-align: middle;\n",
       "    }\n",
       "\n",
       "    .dataframe tbody tr th {\n",
       "        vertical-align: top;\n",
       "    }\n",
       "\n",
       "    .dataframe thead th {\n",
       "        text-align: right;\n",
       "    }\n",
       "</style>\n",
       "<table border=\"1\" class=\"dataframe\">\n",
       "  <thead>\n",
       "    <tr style=\"text-align: right;\">\n",
       "      <th></th>\n",
       "      <th>movieId</th>\n",
       "      <th>title</th>\n",
       "      <th>genres</th>\n",
       "    </tr>\n",
       "  </thead>\n",
       "  <tbody>\n",
       "    <tr>\n",
       "      <th>6774</th>\n",
       "      <td>60074</td>\n",
       "      <td>Hancock (2008)</td>\n",
       "      <td>Action|Adventure|Comedy|Crime|Fantasy</td>\n",
       "    </tr>\n",
       "    <tr>\n",
       "      <th>9096</th>\n",
       "      <td>143559</td>\n",
       "      <td>L.A. Slasher (2015)</td>\n",
       "      <td>Comedy|Crime|Fantasy</td>\n",
       "    </tr>\n",
       "    <tr>\n",
       "      <th>3576</th>\n",
       "      <td>4899</td>\n",
       "      <td>Black Knight (2001)</td>\n",
       "      <td>Adventure|Comedy|Fantasy</td>\n",
       "    </tr>\n",
       "    <tr>\n",
       "      <th>863</th>\n",
       "      <td>1136</td>\n",
       "      <td>Monty Python and the Holy Grail (1975)</td>\n",
       "      <td>Adventure|Comedy|Fantasy</td>\n",
       "    </tr>\n",
       "    <tr>\n",
       "      <th>2302</th>\n",
       "      <td>3052</td>\n",
       "      <td>Dogma (1999)</td>\n",
       "      <td>Adventure|Comedy|Fantasy</td>\n",
       "    </tr>\n",
       "    <tr>\n",
       "      <th>2608</th>\n",
       "      <td>3489</td>\n",
       "      <td>Hook (1991)</td>\n",
       "      <td>Adventure|Comedy|Fantasy</td>\n",
       "    </tr>\n",
       "    <tr>\n",
       "      <th>7865</th>\n",
       "      <td>94015</td>\n",
       "      <td>Mirror Mirror (2012)</td>\n",
       "      <td>Adventure|Comedy|Fantasy</td>\n",
       "    </tr>\n",
       "    <tr>\n",
       "      <th>3582</th>\n",
       "      <td>4911</td>\n",
       "      <td>Jabberwocky (1977)</td>\n",
       "      <td>Adventure|Comedy|Fantasy</td>\n",
       "    </tr>\n",
       "    <tr>\n",
       "      <th>8361</th>\n",
       "      <td>109042</td>\n",
       "      <td>Knights of Badassdom (2013)</td>\n",
       "      <td>Adventure|Comedy|Fantasy</td>\n",
       "    </tr>\n",
       "    <tr>\n",
       "      <th>3302</th>\n",
       "      <td>4467</td>\n",
       "      <td>Adventures of Baron Munchausen, The (1988)</td>\n",
       "      <td>Adventure|Comedy|Fantasy</td>\n",
       "    </tr>\n",
       "    <tr>\n",
       "      <th>5737</th>\n",
       "      <td>30810</td>\n",
       "      <td>Life Aquatic with Steve Zissou, The (2004)</td>\n",
       "      <td>Adventure|Comedy|Fantasy</td>\n",
       "    </tr>\n",
       "    <tr>\n",
       "      <th>6723</th>\n",
       "      <td>58972</td>\n",
       "      <td>Nim's Island (2008)</td>\n",
       "      <td>Adventure|Comedy|Fantasy</td>\n",
       "    </tr>\n",
       "    <tr>\n",
       "      <th>5636</th>\n",
       "      <td>27368</td>\n",
       "      <td>Asterix &amp; Obelix: Mission Cleopatra (Astérix &amp;...</td>\n",
       "      <td>Adventure|Comedy|Fantasy</td>\n",
       "    </tr>\n",
       "    <tr>\n",
       "      <th>3376</th>\n",
       "      <td>4591</td>\n",
       "      <td>Erik the Viking (1989)</td>\n",
       "      <td>Adventure|Comedy|Fantasy</td>\n",
       "    </tr>\n",
       "    <tr>\n",
       "      <th>7496</th>\n",
       "      <td>82854</td>\n",
       "      <td>Gulliver's Travels (2010)</td>\n",
       "      <td>Adventure|Comedy|Fantasy</td>\n",
       "    </tr>\n",
       "    <tr>\n",
       "      <th>5627</th>\n",
       "      <td>27251</td>\n",
       "      <td>10th Kingdom, The (2000)</td>\n",
       "      <td>Adventure|Comedy|Fantasy</td>\n",
       "    </tr>\n",
       "    <tr>\n",
       "      <th>9717</th>\n",
       "      <td>188833</td>\n",
       "      <td>The Man Who Killed Don Quixote (2018)</td>\n",
       "      <td>Adventure|Comedy|Fantasy</td>\n",
       "    </tr>\n",
       "    <tr>\n",
       "      <th>2206</th>\n",
       "      <td>2931</td>\n",
       "      <td>Time of the Gypsies (Dom za vesanje) (1989)</td>\n",
       "      <td>Comedy|Crime|Drama|Fantasy</td>\n",
       "    </tr>\n",
       "    <tr>\n",
       "      <th>6133</th>\n",
       "      <td>43836</td>\n",
       "      <td>Pink Panther, The (2006)</td>\n",
       "      <td>Adventure|Comedy|Crime</td>\n",
       "    </tr>\n",
       "    <tr>\n",
       "      <th>5832</th>\n",
       "      <td>32296</td>\n",
       "      <td>Miss Congeniality 2: Armed and Fabulous (2005)</td>\n",
       "      <td>Adventure|Comedy|Crime</td>\n",
       "    </tr>\n",
       "  </tbody>\n",
       "</table>\n",
       "</div>"
      ],
      "text/plain": [
       "      movieId                                              title  \\\n",
       "6774    60074                                     Hancock (2008)   \n",
       "9096   143559                                L.A. Slasher (2015)   \n",
       "3576     4899                                Black Knight (2001)   \n",
       "863      1136             Monty Python and the Holy Grail (1975)   \n",
       "2302     3052                                       Dogma (1999)   \n",
       "2608     3489                                        Hook (1991)   \n",
       "7865    94015                               Mirror Mirror (2012)   \n",
       "3582     4911                                 Jabberwocky (1977)   \n",
       "8361   109042                        Knights of Badassdom (2013)   \n",
       "3302     4467         Adventures of Baron Munchausen, The (1988)   \n",
       "5737    30810         Life Aquatic with Steve Zissou, The (2004)   \n",
       "6723    58972                                Nim's Island (2008)   \n",
       "5636    27368  Asterix & Obelix: Mission Cleopatra (Astérix &...   \n",
       "3376     4591                             Erik the Viking (1989)   \n",
       "7496    82854                          Gulliver's Travels (2010)   \n",
       "5627    27251                           10th Kingdom, The (2000)   \n",
       "9717   188833              The Man Who Killed Don Quixote (2018)   \n",
       "2206     2931        Time of the Gypsies (Dom za vesanje) (1989)   \n",
       "6133    43836                           Pink Panther, The (2006)   \n",
       "5832    32296     Miss Congeniality 2: Armed and Fabulous (2005)   \n",
       "\n",
       "                                     genres  \n",
       "6774  Action|Adventure|Comedy|Crime|Fantasy  \n",
       "9096                   Comedy|Crime|Fantasy  \n",
       "3576               Adventure|Comedy|Fantasy  \n",
       "863                Adventure|Comedy|Fantasy  \n",
       "2302               Adventure|Comedy|Fantasy  \n",
       "2608               Adventure|Comedy|Fantasy  \n",
       "7865               Adventure|Comedy|Fantasy  \n",
       "3582               Adventure|Comedy|Fantasy  \n",
       "8361               Adventure|Comedy|Fantasy  \n",
       "3302               Adventure|Comedy|Fantasy  \n",
       "5737               Adventure|Comedy|Fantasy  \n",
       "6723               Adventure|Comedy|Fantasy  \n",
       "5636               Adventure|Comedy|Fantasy  \n",
       "3376               Adventure|Comedy|Fantasy  \n",
       "7496               Adventure|Comedy|Fantasy  \n",
       "5627               Adventure|Comedy|Fantasy  \n",
       "9717               Adventure|Comedy|Fantasy  \n",
       "2206             Comedy|Crime|Drama|Fantasy  \n",
       "6133                 Adventure|Comedy|Crime  \n",
       "5832                 Adventure|Comedy|Crime  "
      ]
     },
     "execution_count": 58,
     "metadata": {},
     "output_type": "execute_result"
    }
   ],
   "source": [
    "movies.iloc[res[1][0]]"
   ]
  },
  {
   "cell_type": "code",
   "execution_count": 59,
   "metadata": {},
   "outputs": [],
   "source": [
    "movies_with_ratings.sort_values('timestamp', inplace=True)"
   ]
  },
  {
   "cell_type": "code",
   "execution_count": 60,
   "metadata": {},
   "outputs": [
    {
     "data": {
      "text/html": [
       "<div>\n",
       "<style scoped>\n",
       "    .dataframe tbody tr th:only-of-type {\n",
       "        vertical-align: middle;\n",
       "    }\n",
       "\n",
       "    .dataframe tbody tr th {\n",
       "        vertical-align: top;\n",
       "    }\n",
       "\n",
       "    .dataframe thead th {\n",
       "        text-align: right;\n",
       "    }\n",
       "</style>\n",
       "<table border=\"1\" class=\"dataframe\">\n",
       "  <thead>\n",
       "    <tr style=\"text-align: right;\">\n",
       "      <th></th>\n",
       "      <th>movieId</th>\n",
       "      <th>title</th>\n",
       "      <th>genres</th>\n",
       "    </tr>\n",
       "  </thead>\n",
       "  <tbody>\n",
       "    <tr>\n",
       "      <th>0</th>\n",
       "      <td>1</td>\n",
       "      <td>Toy Story (1995)</td>\n",
       "      <td>Adventure|Animation|Children|Comedy|Fantasy</td>\n",
       "    </tr>\n",
       "    <tr>\n",
       "      <th>1</th>\n",
       "      <td>2</td>\n",
       "      <td>Jumanji (1995)</td>\n",
       "      <td>Adventure|Children|Fantasy</td>\n",
       "    </tr>\n",
       "    <tr>\n",
       "      <th>2</th>\n",
       "      <td>3</td>\n",
       "      <td>Grumpier Old Men (1995)</td>\n",
       "      <td>Comedy|Romance</td>\n",
       "    </tr>\n",
       "    <tr>\n",
       "      <th>3</th>\n",
       "      <td>4</td>\n",
       "      <td>Waiting to Exhale (1995)</td>\n",
       "      <td>Comedy|Drama|Romance</td>\n",
       "    </tr>\n",
       "    <tr>\n",
       "      <th>4</th>\n",
       "      <td>5</td>\n",
       "      <td>Father of the Bride Part II (1995)</td>\n",
       "      <td>Comedy</td>\n",
       "    </tr>\n",
       "  </tbody>\n",
       "</table>\n",
       "</div>"
      ],
      "text/plain": [
       "   movieId                               title  \\\n",
       "0        1                    Toy Story (1995)   \n",
       "1        2                      Jumanji (1995)   \n",
       "2        3             Grumpier Old Men (1995)   \n",
       "3        4            Waiting to Exhale (1995)   \n",
       "4        5  Father of the Bride Part II (1995)   \n",
       "\n",
       "                                        genres  \n",
       "0  Adventure|Animation|Children|Comedy|Fantasy  \n",
       "1                   Adventure|Children|Fantasy  \n",
       "2                               Comedy|Romance  \n",
       "3                         Comedy|Drama|Romance  \n",
       "4                                       Comedy  "
      ]
     },
     "execution_count": 60,
     "metadata": {},
     "output_type": "execute_result"
    }
   ],
   "source": [
    "movies.head()"
   ]
  },
  {
   "cell_type": "code",
   "execution_count": 26,
   "metadata": {},
   "outputs": [],
   "source": [
    "# movies_with_ratings[movies_with_ratings]"
   ]
  },
  {
   "cell_type": "code",
   "execution_count": 61,
   "metadata": {},
   "outputs": [
    {
     "name": "stderr",
     "output_type": "stream",
     "text": [
      "/Users/erik/opt/anaconda3/lib/python3.7/site-packages/ipykernel_launcher.py:3: TqdmDeprecationWarning: This function will be removed in tqdm==5.0.0\n",
      "Please use `tqdm.notebook.tqdm` instead of `tqdm.tqdm_notebook`\n",
      "  This is separate from the ipykernel package so we can avoid doing imports until\n"
     ]
    },
    {
     "data": {
      "application/vnd.jupyter.widget-view+json": {
       "model_id": "eb89a8ba1e044c619c294bcf36f9cd7c",
       "version_major": 2,
       "version_minor": 0
      },
      "text/plain": [
       "HBox(children=(FloatProgress(value=1.0, bar_style='info', max=1.0), HTML(value='')))"
      ]
     },
     "metadata": {},
     "output_type": "display_data"
    },
    {
     "name": "stdout",
     "output_type": "stream",
     "text": [
      "\n"
     ]
    }
   ],
   "source": [
    "title_genres = {}\n",
    "\n",
    "for index, row in tqdm_notebook(movies.iterrows()):\n",
    "    title_genres[row.title] = row.genres"
   ]
  },
  {
   "cell_type": "code",
   "execution_count": 62,
   "metadata": {},
   "outputs": [],
   "source": [
    "def recommend_for_user(user_id):\n",
    "    current_user_id = user_id\n",
    "    user_movies = movies_with_ratings[movies_with_ratings.userId == current_user_id].title.unique()\n",
    "    \n",
    "    last_user_movie = user_movies[-1]\n",
    "    \n",
    "    movie_genres = title_genres[last_user_movie]\n",
    "    \n",
    "    movie_genres = change_string(movie_genres)\n",
    "\n",
    "    predict = count_vect.transform([movie_genres])\n",
    "    X_tfidf2 = tfidf_transformer.transform(predict)\n",
    "\n",
    "    res = neigh.kneighbors(X_tfidf2, return_distance=True)\n",
    "    \n",
    "    movies_to_score = movies.iloc[res[1][0]].title.values\n",
    "\n",
    "    scores = []\n",
    "    titles = []\n",
    "\n",
    "    for movie in movies_to_score:\n",
    "        if movie in user_movies:\n",
    "            continue\n",
    "\n",
    "        scores.append(algo.predict(uid=current_user_id, iid=movie).est)\n",
    "        titles.append(movie)\n",
    "        \n",
    "    \n",
    "    best_indexes = np.argsort(scores)[-10:]\n",
    "    for i in reversed(best_indexes):\n",
    "        print(titles[i], scores[i])"
   ]
  },
  {
   "cell_type": "code",
   "execution_count": 63,
   "metadata": {
    "scrolled": true
   },
   "outputs": [
    {
     "data": {
      "text/html": [
       "<div>\n",
       "<style scoped>\n",
       "    .dataframe tbody tr th:only-of-type {\n",
       "        vertical-align: middle;\n",
       "    }\n",
       "\n",
       "    .dataframe tbody tr th {\n",
       "        vertical-align: top;\n",
       "    }\n",
       "\n",
       "    .dataframe thead th {\n",
       "        text-align: right;\n",
       "    }\n",
       "</style>\n",
       "<table border=\"1\" class=\"dataframe\">\n",
       "  <thead>\n",
       "    <tr style=\"text-align: right;\">\n",
       "      <th></th>\n",
       "      <th>movieId</th>\n",
       "      <th>title</th>\n",
       "      <th>genres</th>\n",
       "      <th>userId</th>\n",
       "      <th>rating</th>\n",
       "      <th>timestamp</th>\n",
       "    </tr>\n",
       "  </thead>\n",
       "  <tbody>\n",
       "    <tr>\n",
       "      <th>100777</th>\n",
       "      <td>184641</td>\n",
       "      <td>Fullmetal Alchemist 2018 (2017)</td>\n",
       "      <td>Action|Adventure|Fantasy</td>\n",
       "      <td>184.0</td>\n",
       "      <td>0.5</td>\n",
       "      <td>1.537095e+09</td>\n",
       "    </tr>\n",
       "    <tr>\n",
       "      <th>100565</th>\n",
       "      <td>175475</td>\n",
       "      <td>The Emoji Movie (2017)</td>\n",
       "      <td>Animation|Children|Comedy</td>\n",
       "      <td>184.0</td>\n",
       "      <td>0.5</td>\n",
       "      <td>1.537110e+09</td>\n",
       "    </tr>\n",
       "    <tr>\n",
       "      <th>100185</th>\n",
       "      <td>165635</td>\n",
       "      <td>The Thinning (2016)</td>\n",
       "      <td>Thriller</td>\n",
       "      <td>184.0</td>\n",
       "      <td>1.0</td>\n",
       "      <td>1.537108e+09</td>\n",
       "    </tr>\n",
       "    <tr>\n",
       "      <th>97915</th>\n",
       "      <td>117895</td>\n",
       "      <td>Maze Runner: Scorch Trials (2015)</td>\n",
       "      <td>Action|Thriller</td>\n",
       "      <td>184.0</td>\n",
       "      <td>1.0</td>\n",
       "      <td>1.537107e+09</td>\n",
       "    </tr>\n",
       "    <tr>\n",
       "      <th>100763</th>\n",
       "      <td>183911</td>\n",
       "      <td>The Clapper (2018)</td>\n",
       "      <td>Comedy</td>\n",
       "      <td>184.0</td>\n",
       "      <td>1.5</td>\n",
       "      <td>1.537109e+09</td>\n",
       "    </tr>\n",
       "    <tr>\n",
       "      <th>...</th>\n",
       "      <td>...</td>\n",
       "      <td>...</td>\n",
       "      <td>...</td>\n",
       "      <td>...</td>\n",
       "      <td>...</td>\n",
       "      <td>...</td>\n",
       "    </tr>\n",
       "    <tr>\n",
       "      <th>99592</th>\n",
       "      <td>148626</td>\n",
       "      <td>Big Short, The (2015)</td>\n",
       "      <td>Drama</td>\n",
       "      <td>184.0</td>\n",
       "      <td>5.0</td>\n",
       "      <td>1.537108e+09</td>\n",
       "    </tr>\n",
       "    <tr>\n",
       "      <th>100487</th>\n",
       "      <td>172705</td>\n",
       "      <td>Tickling Giants (2017)</td>\n",
       "      <td>Documentary</td>\n",
       "      <td>184.0</td>\n",
       "      <td>5.0</td>\n",
       "      <td>1.537108e+09</td>\n",
       "    </tr>\n",
       "    <tr>\n",
       "      <th>100124</th>\n",
       "      <td>164179</td>\n",
       "      <td>Arrival (2016)</td>\n",
       "      <td>Sci-Fi</td>\n",
       "      <td>184.0</td>\n",
       "      <td>5.0</td>\n",
       "      <td>1.537108e+09</td>\n",
       "    </tr>\n",
       "    <tr>\n",
       "      <th>96405</th>\n",
       "      <td>106782</td>\n",
       "      <td>Wolf of Wall Street, The (2013)</td>\n",
       "      <td>Comedy|Crime|Drama</td>\n",
       "      <td>184.0</td>\n",
       "      <td>5.0</td>\n",
       "      <td>1.537099e+09</td>\n",
       "    </tr>\n",
       "    <tr>\n",
       "      <th>96768</th>\n",
       "      <td>109487</td>\n",
       "      <td>Interstellar (2014)</td>\n",
       "      <td>Sci-Fi|IMAX</td>\n",
       "      <td>184.0</td>\n",
       "      <td>5.0</td>\n",
       "      <td>1.537100e+09</td>\n",
       "    </tr>\n",
       "  </tbody>\n",
       "</table>\n",
       "<p>134 rows × 6 columns</p>\n",
       "</div>"
      ],
      "text/plain": [
       "        movieId                              title                     genres  \\\n",
       "100777   184641    Fullmetal Alchemist 2018 (2017)   Action|Adventure|Fantasy   \n",
       "100565   175475             The Emoji Movie (2017)  Animation|Children|Comedy   \n",
       "100185   165635                The Thinning (2016)                   Thriller   \n",
       "97915    117895  Maze Runner: Scorch Trials (2015)            Action|Thriller   \n",
       "100763   183911                 The Clapper (2018)                     Comedy   \n",
       "...         ...                                ...                        ...   \n",
       "99592    148626              Big Short, The (2015)                      Drama   \n",
       "100487   172705             Tickling Giants (2017)                Documentary   \n",
       "100124   164179                     Arrival (2016)                     Sci-Fi   \n",
       "96405    106782    Wolf of Wall Street, The (2013)         Comedy|Crime|Drama   \n",
       "96768    109487                Interstellar (2014)                Sci-Fi|IMAX   \n",
       "\n",
       "        userId  rating     timestamp  \n",
       "100777   184.0     0.5  1.537095e+09  \n",
       "100565   184.0     0.5  1.537110e+09  \n",
       "100185   184.0     1.0  1.537108e+09  \n",
       "97915    184.0     1.0  1.537107e+09  \n",
       "100763   184.0     1.5  1.537109e+09  \n",
       "...        ...     ...           ...  \n",
       "99592    184.0     5.0  1.537108e+09  \n",
       "100487   184.0     5.0  1.537108e+09  \n",
       "100124   184.0     5.0  1.537108e+09  \n",
       "96405    184.0     5.0  1.537099e+09  \n",
       "96768    184.0     5.0  1.537100e+09  \n",
       "\n",
       "[134 rows x 6 columns]"
      ]
     },
     "execution_count": 63,
     "metadata": {},
     "output_type": "execute_result"
    }
   ],
   "source": [
    "movies_with_ratings[movies_with_ratings.userId == 184].sort_values('rating')"
   ]
  },
  {
   "cell_type": "code",
   "execution_count": 64,
   "metadata": {},
   "outputs": [
    {
     "name": "stdout",
     "output_type": "stream",
     "text": [
      "Hunt for Red October, The (1990) 4.0187871231835945\n",
      "Goldfinger (1964) 3.9504283419500386\n",
      "Live and Let Die (1973) 3.8960781913232005\n",
      "Dr. No (1962) 3.889132820370203\n",
      "From Russia with Love (1963) 3.8314074372636355\n",
      "Mission: Impossible III (2006) 3.729711853655254\n",
      "Thunderball (1965) 3.7148464770845413\n",
      "Mission: Impossible - Rogue Nation (2015) 3.6993848081289142\n",
      "For Your Eyes Only (1981) 3.6868513536575214\n",
      "Raiders of the Lost Ark: The Adaptation (1989) 3.6718675026030083\n"
     ]
    }
   ],
   "source": [
    "recommend_for_user(184)"
   ]
  },
  {
   "cell_type": "code",
   "execution_count": null,
   "metadata": {},
   "outputs": [],
   "source": []
  },
  {
   "cell_type": "code",
   "execution_count": null,
   "metadata": {},
   "outputs": [],
   "source": []
  }
 ],
 "metadata": {
  "kernelspec": {
   "display_name": "Python 3",
   "language": "python",
   "name": "python3"
  },
  "language_info": {
   "codemirror_mode": {
    "name": "ipython",
    "version": 3
   },
   "file_extension": ".py",
   "mimetype": "text/x-python",
   "name": "python",
   "nbconvert_exporter": "python",
   "pygments_lexer": "ipython3",
   "version": "3.7.4"
  }
 },
 "nbformat": 4,
 "nbformat_minor": 2
}
