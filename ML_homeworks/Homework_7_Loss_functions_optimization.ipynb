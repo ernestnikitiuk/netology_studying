{
 "cells": [
  {
   "cell_type": "code",
   "execution_count": 39,
   "metadata": {},
   "outputs": [],
   "source": [
    "import numpy as np\n",
    "from sklearn.datasets import make_blobs\n",
    "from sklearn.model_selection import train_test_split\n",
    "from sklearn.metrics import accuracy_score\n",
    "import matplotlib.pyplot as plt\n",
    "%matplotlib inline\n",
    "import math\n",
    "from sklearn.datasets import load_iris\n",
    "from sklearn.preprocessing import StandardScaler\n",
    "from sklearn.model_selection import cross_val_score"
   ]
  },
  {
   "cell_type": "code",
   "execution_count": 40,
   "metadata": {},
   "outputs": [],
   "source": [
    "\n",
    "iris = load_iris()"
   ]
  },
  {
   "cell_type": "code",
   "execution_count": 44,
   "metadata": {},
   "outputs": [],
   "source": [
    "X = iris.data[iris.target != 0]\n",
    "y = iris.target[iris.target != 0]\n"
   ]
  },
  {
   "cell_type": "code",
   "execution_count": 46,
   "metadata": {},
   "outputs": [],
   "source": [
    "scaler = StandardScaler()\n",
    "scaler.fit(X)\n",
    "X = scaler.transform(X)\n",
    "y[y==2] = 0"
   ]
  },
  {
   "cell_type": "markdown",
   "metadata": {},
   "source": [
    "# Gradient Descent"
   ]
  },
  {
   "cell_type": "code",
   "execution_count": 48,
   "metadata": {},
   "outputs": [],
   "source": [
    "class LogReg_Gradient(object):\n",
    "    \n",
    "    def __init__(self, epochs=100, learning_rate=0.0001):\n",
    "        self.epochs = epochs\n",
    "        self.learning_rate = learning_rate\n",
    "    \n",
    "    def fit(self, X, y, **kwargs):\n",
    "        # fitting new params\n",
    "        if len(kwargs) !=0:\n",
    "            try:\n",
    "                if len(kwargs['epochs']) !=0:\n",
    "                    self.epochs = kwargs['epochs']\n",
    "            except:\n",
    "                pass\n",
    "            \n",
    "            try:\n",
    "                if len(kwargs['learning_rate']) !=0:\n",
    "                    self.learning_rate = kwargs['learning_rate']\n",
    "            except:\n",
    "                pass\n",
    "\n",
    "        # set random params\n",
    "        params = np.random.normal(size=len(X[0])+1)\n",
    "        for _ in range(self.epochs):\n",
    "            # make predictions\n",
    "            pred = []\n",
    "            for each in X:\n",
    "                pred.append(1* params[0] +\n",
    "                            each[0] * params[1] +\n",
    "                            each[1] * params[2] + \n",
    "                            each[2] * params[3] + \n",
    "                            each[3] * params[4])\n",
    "\n",
    "            # y predicted\n",
    "            y_pred = []  \n",
    "            for each in pred:\n",
    "                y_pred.append(np.argmax([(1 - 1/(1+np.e**-each)), (1/(1+np.e**-each))]))\n",
    "\n",
    "            # updating params\n",
    "            for param in range(len(params)):\n",
    "                new_param = []\n",
    "                for i in range(len(X)):\n",
    "                    if param == 0:\n",
    "                        new_param.append(1 * (y[i] - y_pred[i]))\n",
    "                    else:\n",
    "                        new_param.append(X[i][param-1] * (y[i] - y_pred[i]))\n",
    "                new_param = np.sum(new_param)\n",
    "                params[param] = params[param] + self.learning_rate * new_param\n",
    "            self.params = params\n",
    "    \n",
    "    def predict(self, X):\n",
    "        pred = []\n",
    "        for each in X:\n",
    "            pred.append(1 * self.params[0] +\n",
    "                        each[0] * self.params[1] +\n",
    "                        each[1] * self.params[2] + \n",
    "                        each[2] * self.params[3] + \n",
    "                        each[3] * self.params[4])\n",
    "\n",
    "        # y predicted\n",
    "        y_pred = []  \n",
    "        for each in pred:\n",
    "            y_pred.append(np.argmax([(1 - 1/(1+np.e**-each)), (1/(1+np.e**-each))]))\n",
    "        return y_pred\n",
    "        \n",
    "    def predict_proba(self, X):\n",
    "        pred = []\n",
    "        for each in X:\n",
    "            pred.append(1 * self.params[0] +\n",
    "                        each[0] * self.params[1] +\n",
    "                        each[1] * self.params[2] + \n",
    "                        each[2] * self.params[3] + \n",
    "                        each[3] * self.params[4])\n",
    "\n",
    "        # y predicted\n",
    "        y_pred_proba = []  \n",
    "        for each in pred:\n",
    "            y_pred_proba.append([(1 - 1/(1+np.e**-each)), (1/(1+np.e**-each))])\n",
    "        return y_pred_proba\n",
    "    \n",
    "    def get_params(self, deep=False):\n",
    "        return {'epochs': self.epochs,\n",
    "                'learning_rate': self.learning_rate}"
   ]
  },
  {
   "cell_type": "code",
   "execution_count": 70,
   "metadata": {},
   "outputs": [
    {
     "data": {
      "text/plain": [
       "0.89"
      ]
     },
     "execution_count": 70,
     "metadata": {},
     "output_type": "execute_result"
    }
   ],
   "source": [
    "logreg_gradient = LogReg_Gradient(epochs= 100, learning_rate=0.001)\n",
    "logreg_gradient.fit(X, y)\n",
    "accuracy_score(y, logreg_gradient.predict(X))"
   ]
  },
  {
   "cell_type": "markdown",
   "metadata": {},
   "source": [
    "# Nesterov Accelerated Gradient"
   ]
  },
  {
   "cell_type": "code",
   "execution_count": 72,
   "metadata": {},
   "outputs": [],
   "source": [
    "class LogReg_Nesterov(object):\n",
    "    \n",
    "    def __init__(self, epochs=100, learning_rate=0.0001, momentum=0.9):\n",
    "        self.epochs = epochs\n",
    "        self.learning_rate = learning_rate\n",
    "        self.momentum = momentum\n",
    "    \n",
    "    def fit(self, X, y, **kwargs):\n",
    "        # fitting new params\n",
    "        if len(kwargs) !=0:\n",
    "            try:\n",
    "                if len(kwargs['epochs']) !=0:\n",
    "                    self.epochs = kwargs['epochs']\n",
    "            except:\n",
    "                pass\n",
    "            \n",
    "            try:\n",
    "                if len(kwargs['learning_rate']) !=0:\n",
    "                    self.learning_rate = kwargs['learning_rate']\n",
    "            except:\n",
    "                pass\n",
    "            \n",
    "            try:\n",
    "                if len(kwargs['momentum']) !=0:\n",
    "                    self.momentum = kwargs['momentum']\n",
    "            except:\n",
    "                pass\n",
    "\n",
    "        # set random params\n",
    "        params = np.random.normal(size=len(X[0])+1)\n",
    "        for _ in range(self.epochs):\n",
    "            # make predictions\n",
    "            pred = []\n",
    "            for each in X:\n",
    "                pred.append(1* params[0] +\n",
    "                            each[0] * params[1] +\n",
    "                            each[1] * params[2] + \n",
    "                            each[2] * params[3] + \n",
    "                            each[3] * params[4])\n",
    "\n",
    "            # y predicted\n",
    "            y_pred = []  \n",
    "            for each in pred:\n",
    "                y_pred.append(np.argmax([(1 - 1/(1+np.e**-each)), (1/(1+np.e**-each))]))\n",
    "\n",
    "            # updating params\n",
    "            for param in range(len(params)):\n",
    "                new_param = []\n",
    "                old_param = 0\n",
    "                for i in range(len(X)):\n",
    "                    if param == 0:\n",
    "                        new_param.append(1 * (y[i] - y_pred[i]))\n",
    "                    else:\n",
    "                        new_param.append(X[i][param-1] * (y[i] - y_pred[i]))\n",
    "                new_param = np.sum(new_param)\n",
    "                params[param] = params[param] - self.momentum * old_param + self.learning_rate * new_param\n",
    "                old_param = new_param\n",
    "            self.params = params\n",
    "    \n",
    "    def predict(self, X):\n",
    "        pred = []\n",
    "        for each in X:\n",
    "            pred.append(1 * self.params[0] +\n",
    "                        each[0] * self.params[1] +\n",
    "                        each[1] * self.params[2] + \n",
    "                        each[2] * self.params[3] + \n",
    "                        each[3] * self.params[4])\n",
    "\n",
    "        # y predicted\n",
    "        y_pred = []  \n",
    "        for each in pred:\n",
    "            y_pred.append(np.argmax([(1 - 1/(1+np.e**-each)), (1/(1+np.e**-each))]))\n",
    "        return y_pred\n",
    "        \n",
    "    def predict_proba(self, X):\n",
    "        pred = []\n",
    "        for each in X:\n",
    "            pred.append(1 * self.params[0] +\n",
    "                        each[0] * self.params[1] +\n",
    "                        each[1] * self.params[2] + \n",
    "                        each[2] * self.params[3] + \n",
    "                        each[3] * self.params[4])\n",
    "\n",
    "        # y predicted\n",
    "        y_pred_proba = []  \n",
    "        for each in pred:\n",
    "            y_pred_proba.append([(1 - 1/(1+np.e**-each)), (1/(1+np.e**-each))])\n",
    "        return y_pred_proba\n",
    "    \n",
    "    def get_params(self, deep=False):\n",
    "        return {'epochs': self.epochs,\n",
    "                'learning_rate': self.learning_rate}"
   ]
  },
  {
   "cell_type": "code",
   "execution_count": 74,
   "metadata": {},
   "outputs": [
    {
     "data": {
      "text/plain": [
       "0.87"
      ]
     },
     "execution_count": 74,
     "metadata": {},
     "output_type": "execute_result"
    }
   ],
   "source": [
    "logreg_nesterov = LogReg_Nesterov(epochs=500, momentum=0.9)\n",
    "logreg_nesterov.fit(X, y)\n",
    "accuracy_score(y, logreg_nesterov.predict(X))"
   ]
  },
  {
   "cell_type": "markdown",
   "metadata": {},
   "source": [
    "# rmsprop"
   ]
  },
  {
   "cell_type": "code",
   "execution_count": 76,
   "metadata": {},
   "outputs": [],
   "source": [
    "class LogReg_rmsprop(object):\n",
    "    \n",
    "    def __init__(self, epochs=100, learning_rate=0.0001, momentum=0.9):\n",
    "        self.epochs = epochs\n",
    "        self.learning_rate = learning_rate\n",
    "        self.momentum = momentum   \n",
    "    \n",
    "    def fit(self, X, y, **kwargs):\n",
    "        # fitting new params\n",
    "        if len(kwargs) !=0:\n",
    "            try:\n",
    "                if len(kwargs['epochs']) !=0:\n",
    "                    self.epochs = kwargs['epochs']\n",
    "            except:\n",
    "                pass\n",
    "            \n",
    "            try:\n",
    "                if len(kwargs['learning_rate']) !=0:\n",
    "                    self.learning_rate = kwargs['learning_rate']\n",
    "            except:\n",
    "                pass\n",
    "            \n",
    "            try:\n",
    "                if len(kwargs['momentum']) !=0:\n",
    "                    self.momentum = kwargs['momentum']\n",
    "            except:\n",
    "                pass\n",
    "       \n",
    "        # set random params\n",
    "        params = np.random.normal(size=len(X[0])+1)\n",
    "        for _ in range(self.epochs):\n",
    "            # make predictions\n",
    "            pred = []\n",
    "            for each in X:\n",
    "                pred.append(1* params[0] +\n",
    "                            each[0] * params[1] +\n",
    "                            each[1] * params[2] + \n",
    "                            each[2] * params[3] + \n",
    "                            each[3] * params[4])\n",
    "\n",
    "            # y predicted\n",
    "            y_pred = []  \n",
    "            for each in pred:\n",
    "                y_pred.append(np.argmax([(1 - 1/(1+np.e**-each)), (1/(1+np.e**-each))]))\n",
    "\n",
    "            # updating params\n",
    "            for param in range(len(params)):\n",
    "                new_param = []\n",
    "                old_param = 0\n",
    "                for i in range(len(X)):\n",
    "                    if param == 0:\n",
    "                        new_param.append(1 * (y[i] - y_pred[i]))\n",
    "                    else:\n",
    "                        new_param.append(X[i][param-1] * (y[i] - y_pred[i]))\n",
    "                new_param = np.sum(new_param)\n",
    "                new_param = self.momentum * old_param + (1 - self.momentum) * new_param**2\n",
    "                params[param] = params[param] - self.learning_rate / (new_param**0.5 + 0.1) * new_param\n",
    "                old_param = new_param\n",
    "            self.params = params\n",
    "    \n",
    "    def predict(self, X):\n",
    "        pred = []\n",
    "        for each in X:\n",
    "            pred.append(1 * self.params[0] +\n",
    "                        each[0] * self.params[1] +\n",
    "                        each[1] * self.params[2] + \n",
    "                        each[2] * self.params[3] + \n",
    "                        each[3] * self.params[4])\n",
    "\n",
    "        # y predicted\n",
    "        y_pred = []  \n",
    "        for each in pred:\n",
    "            y_pred.append(np.argmax([(1 - 1/(1+np.e**-each)), (1/(1+np.e**-each))]))\n",
    "        return y_pred\n",
    "        \n",
    "    def predict_proba(self, X):\n",
    "        pred = []\n",
    "        for each in X:\n",
    "            pred.append(1 * self.params[0] +\n",
    "                        each[0] * self.params[1] +\n",
    "                        each[1] * self.params[2] + \n",
    "                        each[2] * self.params[3] + \n",
    "                        each[3] * self.params[4])\n",
    "\n",
    "        # y predicted\n",
    "        y_pred_proba = []  \n",
    "        for each in pred:\n",
    "            y_pred_proba.append([(1 - 1/(1+np.e**-each)), (1/(1+np.e**-each))])\n",
    "        return y_pred_proba\n",
    "    \n",
    "    def get_params(self, deep=False):\n",
    "        return {'epochs': self.epochs,\n",
    "                'learning_rate': self.learning_rate}"
   ]
  },
  {
   "cell_type": "code",
   "execution_count": 81,
   "metadata": {},
   "outputs": [
    {
     "data": {
      "text/plain": [
       "0.78"
      ]
     },
     "execution_count": 81,
     "metadata": {},
     "output_type": "execute_result"
    }
   ],
   "source": [
    "logreg_rmsprop = LogReg_rmsprop(epochs=1000, momentum=0.84, learning_rate=0.001)\n",
    "logreg_rmsprop.fit(X, y)\n",
    "accuracy_score(y, logreg_rmsprop.predict(X))"
   ]
  },
  {
   "cell_type": "code",
   "execution_count": null,
   "metadata": {},
   "outputs": [],
   "source": []
  },
  {
   "cell_type": "code",
   "execution_count": null,
   "metadata": {},
   "outputs": [],
   "source": []
  },
  {
   "cell_type": "code",
   "execution_count": null,
   "metadata": {},
   "outputs": [],
   "source": []
  }
 ],
 "metadata": {
  "kernelspec": {
   "display_name": "Python 3",
   "language": "python",
   "name": "python3"
  },
  "language_info": {
   "codemirror_mode": {
    "name": "ipython",
    "version": 3
   },
   "file_extension": ".py",
   "mimetype": "text/x-python",
   "name": "python",
   "nbconvert_exporter": "python",
   "pygments_lexer": "ipython3",
   "version": "3.7.3"
  }
 },
 "nbformat": 4,
 "nbformat_minor": 2
}
